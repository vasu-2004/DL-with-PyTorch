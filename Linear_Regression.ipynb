{
  "nbformat": 4,
  "nbformat_minor": 0,
  "metadata": {
    "colab": {
      "provenance": [],
      "gpuType": "T4"
    },
    "kernelspec": {
      "name": "python3",
      "display_name": "Python 3"
    },
    "language_info": {
      "name": "python"
    },
    "accelerator": "GPU"
  },
  "cells": [
    {
      "cell_type": "code",
      "execution_count": null,
      "metadata": {
        "id": "8gnSakOQFWso"
      },
      "outputs": [],
      "source": [
        "import torch\n",
        "import torch.nn as nn"
      ]
    },
    {
      "cell_type": "code",
      "source": [
        "X = torch.tensor([1,2,3,4],dtype=torch.float32)\n",
        "Y = torch.tensor([2,4,6,8],dtype=torch.float32)\n",
        "\n",
        "w = torch.tensor(.0,dtype=torch.float32,requires_grad=True)\n",
        "\n",
        "def forward(x):\n",
        "  return w*x\n",
        "\n",
        "print(f'Prediction before training: f(5) = {forward(5):.3f}')\n",
        "\n",
        "#training\n",
        "learning_rate = .01\n",
        "n_iters = 100\n",
        "\n",
        "loss = nn.MSELoss()\n",
        "optimizer = torch.optim.SGD([w],lr=learning_rate)\n",
        "\n",
        "for epoch in range(n_iters):\n",
        "  #prediction-fwd pass\n",
        "  y_pred = forward(X)\n",
        "\n",
        "  #loss\n",
        "  l = loss(Y,y_pred)\n",
        "\n",
        "  #gradients = backward pass\n",
        "  l.backward()\n",
        "\n",
        "  #update weights\n",
        "  optimizer.step()\n",
        "\n",
        "  #zero gradients\n",
        "  optimizer.zero_grad()\n",
        "\n",
        "  if epoch % 10 == 0:\n",
        "    print(f'epoch {epoch+1}: w = {w:.3f}, loss = {l:.8f}')\n",
        "\n",
        "print(f'Prediction after training: f(5) = {forward(5):.3f}')\n",
        "\n",
        "\n"
      ],
      "metadata": {
        "id": "edAgVjxVFdht",
        "colab": {
          "base_uri": "https://localhost:8080/"
        },
        "outputId": "0a4e5d43-6ed3-44aa-c97a-56bdc386f536"
      },
      "execution_count": null,
      "outputs": [
        {
          "output_type": "stream",
          "name": "stdout",
          "text": [
            "Prediction before training: f(5) = 0.000\n",
            "epoch 1: w = 0.300, loss = 30.00000000\n",
            "epoch 11: w = 1.665, loss = 1.16278565\n",
            "epoch 21: w = 1.934, loss = 0.04506890\n",
            "epoch 31: w = 1.987, loss = 0.00174685\n",
            "epoch 41: w = 1.997, loss = 0.00006770\n",
            "epoch 51: w = 1.999, loss = 0.00000262\n",
            "epoch 61: w = 2.000, loss = 0.00000010\n",
            "epoch 71: w = 2.000, loss = 0.00000000\n",
            "epoch 81: w = 2.000, loss = 0.00000000\n",
            "epoch 91: w = 2.000, loss = 0.00000000\n",
            "Prediction after training: f(5) = 10.000\n"
          ]
        }
      ]
    },
    {
      "cell_type": "code",
      "source": [
        "torch.cuda.is_available()"
      ],
      "metadata": {
        "colab": {
          "base_uri": "https://localhost:8080/"
        },
        "id": "QAbQLl1SKuNX",
        "outputId": "70adf03f-a8de-4fea-dd94-01a1c2f51270"
      },
      "execution_count": null,
      "outputs": [
        {
          "output_type": "execute_result",
          "data": {
            "text/plain": [
              "True"
            ]
          },
          "metadata": {},
          "execution_count": 3
        }
      ]
    },
    {
      "cell_type": "code",
      "source": [
        "X = torch.tensor([[1],[2],[3],[4]],dtype=torch.float32)\n",
        "Y = torch.tensor([[2],[4],[6],[8]],dtype=torch.float32)\n",
        "\n",
        "X_test = torch.tensor([5],dtype=torch.float32)\n",
        "\n",
        "#w = torch.tensor(.0,dtype=torch.float32,requires_grad=True)\n",
        "\n",
        "n_sample , n_features = X.shape\n",
        "print(n_sample,n_features)\n",
        "\n",
        "input_size = n_features\n",
        "output_size = n_features\n",
        "\n",
        "model = nn.Linear(input_size,output_size)\n",
        "\n",
        "print(f'Prediction before training: f(5) = {model(X_test).item():.3f}') #the input of model can only be a tensor\n",
        "\n",
        "#training\n",
        "learning_rate = .01\n",
        "n_iters = 100\n",
        "\n",
        "loss = nn.MSELoss()\n",
        "optimizer = torch.optim.SGD(model.parameters(),lr=learning_rate)\n",
        "\n",
        "for epoch in range(n_iters):\n",
        "  #prediction-fwd pass\n",
        "  y_pred = model(X)\n",
        "\n",
        "  #loss\n",
        "  l = loss(Y,y_pred)\n",
        "\n",
        "  #gradients = backward pass\n",
        "  l.backward()\n",
        "\n",
        "  #update weights\n",
        "  optimizer.step()\n",
        "\n",
        "  #zero gradients\n",
        "  optimizer.zero_grad()\n",
        "\n",
        "  if epoch % 10 == 0:\n",
        "    [w,b] = model.parameters()\n",
        "    print(f'epoch {epoch+1}: w = {w[0][0].item():.3f}, loss = {l:.8f}')\n",
        "\n",
        "print(f'Prediction after training: f(5) = {model(X_test).item():.3f}')\n",
        "\n",
        "\n"
      ],
      "metadata": {
        "colab": {
          "base_uri": "https://localhost:8080/"
        },
        "id": "mhm_yX99MHJD",
        "outputId": "7c5b1e95-f03f-46a1-ff8e-b9d0160a602f"
      },
      "execution_count": null,
      "outputs": [
        {
          "output_type": "stream",
          "name": "stdout",
          "text": [
            "4 1\n",
            "Prediction before training: f(5) = 1.800\n",
            "epoch 1: w = 0.431, loss = 17.75236130\n",
            "epoch 11: w = 1.401, loss = 0.70271212\n",
            "epoch 21: w = 1.568, loss = 0.24742892\n",
            "epoch 31: w = 1.604, loss = 0.22230625\n",
            "epoch 41: w = 1.620, loss = 0.20908958\n",
            "epoch 51: w = 1.632, loss = 0.19691238\n",
            "epoch 61: w = 1.643, loss = 0.18545073\n",
            "epoch 71: w = 1.653, loss = 0.17465660\n",
            "epoch 81: w = 1.663, loss = 0.16449067\n",
            "epoch 91: w = 1.673, loss = 0.15491657\n",
            "Prediction after training: f(5) = 9.345\n"
          ]
        }
      ]
    },
    {
      "cell_type": "code",
      "source": [
        "t = torch.tensor([[2,1],[4,7],[6,9],[8,3]])\n",
        "n_samples,n_features = t.shape\n",
        "print(n_samples,n_features)"
      ],
      "metadata": {
        "colab": {
          "base_uri": "https://localhost:8080/"
        },
        "id": "xIJzdS5FOKpQ",
        "outputId": "a33a41b3-158f-4f8b-82e3-87d7a9669778"
      },
      "execution_count": null,
      "outputs": [
        {
          "output_type": "stream",
          "name": "stdout",
          "text": [
            "4 2\n"
          ]
        }
      ]
    },
    {
      "cell_type": "code",
      "source": [
        "class LinearRegression(nn.Module):\n",
        "\n",
        "  def __init__(self,input_dim,output_dim):\n",
        "    super(LinearRegression,self).__init__()\n",
        "    #define layers\n",
        "    self.lin =  nn.Linear(input_dim,output_dim)\n",
        "\n",
        "  def forward(self,x):\n",
        "    return self.lin(x)\n",
        "\n",
        "model = LinearRegression(input_size,output_size)\n",
        "\n",
        "print(f'Prediction before training: f(5) = {model(X_test).item():.3f}') #the input of model can only be a tensor\n",
        "\n",
        "#training\n",
        "learning_rate = .01\n",
        "n_iters = 100\n",
        "\n",
        "loss = nn.MSELoss()\n",
        "optimizer = torch.optim.SGD(model.parameters(),lr=learning_rate)\n",
        "\n",
        "for epoch in range(n_iters):\n",
        "  #prediction-fwd pass\n",
        "  y_pred = model(X)\n",
        "\n",
        "  #loss\n",
        "  l = loss(Y,y_pred)\n",
        "\n",
        "  #gradients = backward pass\n",
        "  l.backward()\n",
        "\n",
        "  #update weights\n",
        "  optimizer.step()\n",
        "\n",
        "  #zero gradients\n",
        "  optimizer.zero_grad()\n",
        "\n",
        "  if epoch % 10 == 0:\n",
        "    [w,b] = model.parameters()\n",
        "    print(f'epoch {epoch+1}: w = {w[0][0].item():.3f}, loss = {l:.8f}')\n",
        "\n",
        "print(f'Prediction after training: f(5) = {model(X_test).item():.3f}')"
      ],
      "metadata": {
        "colab": {
          "base_uri": "https://localhost:8080/"
        },
        "id": "BXd-2TuHQD4K",
        "outputId": "859a346a-7fd5-4a93-c1d7-f7f9f4f45ca4"
      },
      "execution_count": null,
      "outputs": [
        {
          "output_type": "stream",
          "name": "stdout",
          "text": [
            "Prediction before training: f(5) = -2.076\n",
            "epoch 1: w = -0.165, loss = 41.37458420\n",
            "epoch 11: w = 1.316, loss = 1.29904008\n",
            "epoch 21: w = 1.564, loss = 0.24888530\n",
            "epoch 31: w = 1.614, loss = 0.20918506\n",
            "epoch 41: w = 1.631, loss = 0.19635709\n",
            "epoch 51: w = 1.643, loss = 0.18491115\n",
            "epoch 61: w = 1.654, loss = 0.17414795\n",
            "epoch 71: w = 1.664, loss = 0.16401172\n",
            "epoch 81: w = 1.674, loss = 0.15446539\n",
            "epoch 91: w = 1.684, loss = 0.14547472\n",
            "Prediction after training: f(5) = 9.365\n"
          ]
        }
      ]
    },
    {
      "cell_type": "code",
      "source": [
        "import torch\n",
        "import torch.nn as nn\n",
        "import numpy as np\n",
        "from sklearn import datasets\n",
        "import matplotlib.pyplot as plt\n",
        "\n",
        "#0>prepare data\n",
        "X_nump,y_numpy = datasets.make_regression(n_samples=100,n_features=1,noise=20,random_state=1)\n",
        "X = torch.from_numpy(X_nump.astype(np.float32))\n",
        "y = torch.from_numpy(y_numpy.astype(np.float32))\n",
        "y = y.view(y.shape[0],1)\n",
        "\n",
        "n_samples,n_features = X.shape\n",
        "\n",
        "#1>model\n",
        "input_size = n_features\n",
        "output_size = 1\n",
        "\n",
        "model = nn.Linear(input_size,output_size)\n",
        "\n",
        "#2>loss and optimizer\n",
        "criterion = nn.MSELoss()\n",
        "learning_rate = .01\n",
        "optimizer = torch.optim.SGD(model.parameters(),lr=learning_rate)\n",
        "\n",
        "#3>training loop\n",
        "num_epochs = 100\n",
        "for epoch in range(num_epochs):\n",
        "  #fwd pass and loss\n",
        "  y_pred = model(X)\n",
        "  loss = criterion(y_pred,y)\n",
        "\n",
        "  #backward pass\n",
        "  loss.backward()\n",
        "\n",
        "  #update\n",
        "  optimizer.step()\n",
        "  optimizer.zero_grad()\n",
        "\n",
        "  if (epoch+1) % 10 == 0:\n",
        "    print(f'epoch: {epoch+1}, loss = {loss.item():.4f}')\n",
        "\n",
        "\n",
        "# plot\n",
        "predicted = model(X).detach().numpy()\n",
        "\n",
        "plt.plot(X_nump, y_numpy, 'ro')\n",
        "plt.plot(X_nump, predicted, 'b')\n",
        "plt.show()\n"
      ],
      "metadata": {
        "colab": {
          "base_uri": "https://localhost:8080/",
          "height": 607
        },
        "id": "vVVs2I5NWO3H",
        "outputId": "4faf4c5e-7038-48bd-abc7-9b9d5ddc2f19"
      },
      "execution_count": null,
      "outputs": [
        {
          "output_type": "stream",
          "name": "stdout",
          "text": [
            "epoch: 10, loss = 4482.1362\n",
            "epoch: 20, loss = 3339.9722\n",
            "epoch: 30, loss = 2514.2468\n",
            "epoch: 40, loss = 1916.6161\n",
            "epoch: 50, loss = 1483.6204\n",
            "epoch: 60, loss = 1169.6025\n",
            "epoch: 70, loss = 941.6657\n",
            "epoch: 80, loss = 776.0764\n",
            "epoch: 90, loss = 655.6888\n",
            "epoch: 100, loss = 568.1035\n"
          ]
        },
        {
          "output_type": "display_data",
          "data": {
            "text/plain": [
              "<Figure size 640x480 with 1 Axes>"
            ],
            "image/png": "[encoded data removed]"
          },
          "metadata": {}
        }
      ]
    },
    {
      "cell_type": "code",
      "source": [],
      "metadata": {
        "id": "KoRKmbiPcm-c"
      },
      "execution_count": null,
      "outputs": []
    }
  ]
}