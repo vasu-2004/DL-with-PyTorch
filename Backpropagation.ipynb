{
  "nbformat": 4,
  "nbformat_minor": 0,
  "metadata": {
    "colab": {
      "provenance": []
    },
    "kernelspec": {
      "name": "python3",
      "display_name": "Python 3"
    },
    "language_info": {
      "name": "python"
    }
  },
  "cells": [
    {
      "cell_type": "code",
      "execution_count": 1,
      "metadata": {
        "id": "yomQdagBrBmt"
      },
      "outputs": [],
      "source": [
        "import torch"
      ]
    },
    {
      "cell_type": "code",
      "source": [
        "x= torch.tensor(1.0)\n",
        "y = torch.tensor(2.0)\n",
        "\n",
        "w = torch.tensor(1.0, requires_grad=True)\n",
        "\n",
        "#forward pass and compute the loss\n",
        "y_hat = w*x\n",
        "loss = (y_hat-y)**2\n",
        "print(loss)"
      ],
      "metadata": {
        "colab": {
          "base_uri": "https://localhost:8080/"
        },
        "id": "MKxK1CCXuFuS",
        "outputId": "95cdc1ba-b909-48a8-ee53-489902618213"
      },
      "execution_count": 2,
      "outputs": [
        {
          "output_type": "stream",
          "name": "stdout",
          "text": [
            "tensor(1., grad_fn=<PowBackward0>)\n"
          ]
        }
      ]
    },
    {
      "cell_type": "code",
      "source": [
        "loss.backward()\n",
        "print(w.grad)"
      ],
      "metadata": {
        "colab": {
          "base_uri": "https://localhost:8080/"
        },
        "id": "V8gVRYC8uyTm",
        "outputId": "38c5b169-ab62-4c74-97f5-d5560ce89e03"
      },
      "execution_count": 3,
      "outputs": [
        {
          "output_type": "stream",
          "name": "stdout",
          "text": [
            "tensor(-2.)\n"
          ]
        }
      ]
    },
    {
      "cell_type": "code",
      "source": [
        "import numpy as np"
      ],
      "metadata": {
        "id": "dr4NEB43u71C"
      },
      "execution_count": 4,
      "outputs": []
    },
    {
      "cell_type": "code",
      "source": [
        "X = np.array([1,2,3,4],dtype=np.float32)\n",
        "Y = 2*X\n",
        "\n",
        "w = .0\n",
        "\n",
        "#model pred\n",
        "def forward(x):\n",
        "    return w*x\n",
        "\n",
        "#loss i.e. MSE\n",
        "def loss(y,y_pred):\n",
        "    return ((y_pred-y)**2).mean()\n",
        "\n",
        "#gradient\n",
        "def gradient(x,y,y_pred):\n",
        "    return np.dot(2*x,y_pred-y).mean()\n",
        "\n",
        "print(f'Prediction before training: f(5) = {forward(5):.3f}')\n",
        "\n",
        "#Training\n",
        "learning_rate = .01\n",
        "n_iters = 10\n",
        "\n",
        "\n",
        "for epoch in range(n_iters):\n",
        "  #prdiction = forward pass\n",
        "  y_pred = forward(X)\n",
        "\n",
        "  #loss\n",
        "  l = loss(Y,y_pred)\n",
        "\n",
        "  #gradients\n",
        "  dw = gradient(X,Y,y_pred)\n",
        "\n",
        "  #update_weights\n",
        "  w-=learning_rate*dw\n",
        "\n",
        "  if epoch%1 == 0:\n",
        "    print(f'epoch {epoch+1}: w = {w:.3f}, loss = {l:.8f}')\n",
        "\n",
        "print(f\"prediction after training: f(5)={forward(5):.3f}\")"
      ],
      "metadata": {
        "colab": {
          "base_uri": "https://localhost:8080/"
        },
        "id": "Z__IGJM9wAbN",
        "outputId": "e6a6f239-71d7-4be2-c937-ae37589a1a14"
      },
      "execution_count": 5,
      "outputs": [
        {
          "output_type": "stream",
          "name": "stdout",
          "text": [
            "Prediction before training: f(5) = 0.000\n",
            "epoch 1: w = 1.200, loss = 30.00000000\n",
            "epoch 2: w = 1.680, loss = 4.79999924\n",
            "epoch 3: w = 1.872, loss = 0.76800019\n",
            "epoch 4: w = 1.949, loss = 0.12288000\n",
            "epoch 5: w = 1.980, loss = 0.01966083\n",
            "epoch 6: w = 1.992, loss = 0.00314574\n",
            "epoch 7: w = 1.997, loss = 0.00050331\n",
            "epoch 8: w = 1.999, loss = 0.00008053\n",
            "epoch 9: w = 1.999, loss = 0.00001288\n",
            "epoch 10: w = 2.000, loss = 0.00000206\n",
            "prediction after training: f(5)=9.999\n"
          ]
        }
      ]
    },
    {
      "cell_type": "code",
      "source": [
        "import torch"
      ],
      "metadata": {
        "id": "i1rHFho5yq8T"
      },
      "execution_count": 6,
      "outputs": []
    },
    {
      "cell_type": "code",
      "source": [],
      "metadata": {
        "id": "NCiReyB5zKTh"
      },
      "execution_count": null,
      "outputs": []
    },
    {
      "cell_type": "code",
      "source": [
        "X = torch.tensor([1,2,3,4],dtype=torch.float32)\n",
        "Y = 2*X\n",
        "\n",
        "w = torch.tensor(0.0,dtype=torch.float32,requires_grad=True)\n",
        "\n",
        "#model pred\n",
        "def forward(x):\n",
        "    return w*x\n",
        "\n",
        "#loss i.e. MSE\n",
        "def loss(y,y_pred):\n",
        "    return ((y_pred-y)**2).mean()\n",
        "\n",
        "#gradient\n",
        "def gradient(x,y,y_pred):\n",
        "    return np.dot(2*x,y_pred-y).mean()\n",
        "\n",
        "print(f'Prediction before training: f(5) = {forward(5):.3f}')\n",
        "\n",
        "#Training\n",
        "learning_rate = .01\n",
        "n_iters = 100\n",
        "\n",
        "\n",
        "for epoch in range(n_iters):\n",
        "  #prdiction = forward pass\n",
        "  y_pred = forward(X)\n",
        "\n",
        "  #loss\n",
        "  l = loss(Y,y_pred)\n",
        "\n",
        "  #gradients\n",
        "  l.backward() #dl/dw\n",
        "\n",
        "  #update_weights\n",
        "  with torch.no_grad():   #as thsi step is not going to be a part in our computational graph\n",
        "    w-=learning_rate*w.grad\n",
        "\n",
        "  #zero gradients - since in next iter when we call bacwrd() then the gradients should be calculated only with the updated weight\n",
        "  w.grad.zero_()\n",
        "\n",
        "  if epoch%10 == 0:\n",
        "    print(f'epoch {epoch+1}: w = {w:.3f}, loss = {l:.8f}')\n",
        "\n",
        "print(f\"prediction after training: f(5)={forward(5):.3f}\")"
      ],
      "metadata": {
        "colab": {
          "base_uri": "https://localhost:8080/"
        },
        "outputId": "8575d1db-32c6-4486-8fb2-c128413adcda",
        "id": "DdQd0oLIzKo1"
      },
      "execution_count": 9,
      "outputs": [
        {
          "output_type": "stream",
          "name": "stdout",
          "text": [
            "Prediction before training: f(5) = 0.000\n",
            "epoch 1: w = 0.300, loss = 30.00000000\n",
            "epoch 11: w = 1.665, loss = 1.16278565\n",
            "epoch 21: w = 1.934, loss = 0.04506890\n",
            "epoch 31: w = 1.987, loss = 0.00174685\n",
            "epoch 41: w = 1.997, loss = 0.00006770\n",
            "epoch 51: w = 1.999, loss = 0.00000262\n",
            "epoch 61: w = 2.000, loss = 0.00000010\n",
            "epoch 71: w = 2.000, loss = 0.00000000\n",
            "epoch 81: w = 2.000, loss = 0.00000000\n",
            "epoch 91: w = 2.000, loss = 0.00000000\n",
            "prediction after training: f(5)=10.000\n"
          ]
        }
      ]
    },
    {
      "cell_type": "code",
      "source": [],
      "metadata": {
        "id": "C7RnvKVu08vZ"
      },
      "execution_count": null,
      "outputs": []
    }
  ]
}